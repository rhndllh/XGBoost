{
 "cells": [
  {
   "cell_type": "code",
   "execution_count": 1,
   "id": "53c036a5",
   "metadata": {},
   "outputs": [],
   "source": [
    "import pandas as pd \n",
    "import numpy as np\n",
    "from sklearn.model_selection import train_test_split\n",
    "from sklearn.metrics import accuracy_score\n",
    "import seaborn as sns\n",
    "import xgboost as xgb"
   ]
  },
  {
   "cell_type": "code",
   "execution_count": 2,
   "id": "bd35cb4f",
   "metadata": {},
   "outputs": [],
   "source": [
    "titanic = sns.load_dataset('titanic')\n",
    "\n",
    "#Menghapus kolom yang tidak dibutuhkan\n",
    "titanic.drop(['embarked', 'class', 'who', 'adult_male', 'deck', 'embark_town', 'alive'], axis=1, inplace=True)\n",
    "\n",
    "#mengisi Missing Value\n",
    "titanic['age'].fillna(titanic['age'].median(), inplace=True)\n",
    "\n",
    "#Konversi variabel menjadi numerical\n",
    "titanic = pd.get_dummies(titanic, columns=['sex', 'alone'], drop_first=True)\n",
    "\n",
    "# Pisahkan feature dan target variable\n",
    "X, y = titanic.drop(['survived'], axis=1), titanic['survived']\n",
    "\n",
    "# Bagi dataset menjadi training set dan test set\n",
    "X_train, X_test, y_train, y_test = train_test_split(X, y, test_size=0.2, random_state=123)"
   ]
  },
  {
   "cell_type": "code",
   "execution_count": 3,
   "id": "2c456e5d",
   "metadata": {},
   "outputs": [],
   "source": [
    "train_dmatrix = xgb.DMatrix(data=X_train,label=y_train)"
   ]
  },
  {
   "cell_type": "code",
   "execution_count": 4,
   "id": "24f75de1",
   "metadata": {},
   "outputs": [],
   "source": [
    "params = {'objective':'binary:logistic',\n",
    "          'max_depth':3,\n",
    "          'learning_rate':0.1,\n",
    "          'eval_metric':'error'}\n",
    "          \n",
    "num_round = 50\n",
    "\n",
    "model = xgb.train(params, train_dmatrix, num_round)"
   ]
  },
  {
   "cell_type": "code",
   "execution_count": 5,
   "id": "d5aa08bd",
   "metadata": {},
   "outputs": [],
   "source": [
    "test_dmatrix = xgb.DMatrix(data=X_test)\n",
    "\n",
    "y_pred = model.predict(test_dmatrix)\n",
    "y_pred = [round(value) for value in y_pred]"
   ]
  },
  {
   "cell_type": "code",
   "execution_count": 6,
   "id": "3a26073d",
   "metadata": {},
   "outputs": [
    {
     "name": "stdout",
     "output_type": "stream",
     "text": [
      "Accuracy: 84.36%\n"
     ]
    }
   ],
   "source": [
    "accuracy = accuracy_score(y_test, y_pred)\n",
    "print(\"Accuracy: %.2f%%\" % (accuracy * 100.0))"
   ]
  },
  {
   "cell_type": "code",
   "execution_count": null,
   "id": "451aac2a",
   "metadata": {},
   "outputs": [],
   "source": []
  }
 ],
 "metadata": {
  "kernelspec": {
   "display_name": "Python 3 (ipykernel)",
   "language": "python",
   "name": "python3"
  },
  "language_info": {
   "codemirror_mode": {
    "name": "ipython",
    "version": 3
   },
   "file_extension": ".py",
   "mimetype": "text/x-python",
   "name": "python",
   "nbconvert_exporter": "python",
   "pygments_lexer": "ipython3",
   "version": "3.11.4"
  }
 },
 "nbformat": 4,
 "nbformat_minor": 5
}
